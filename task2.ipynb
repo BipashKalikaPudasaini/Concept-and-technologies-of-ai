{
 "cells": [
  {
   "cell_type": "code",
   "execution_count": 1,
   "metadata": {},
   "outputs": [
    {
     "name": "stdout",
     "output_type": "stream",
     "text": [
      "day temp= [17.4, 18.0, 17.8, 16.5, 17.2, 16.7, 18.3, 17.9, 17.0, 16.8, 17.5, 17.1, 18.1, 16.4, 18.2, 16.6]\n",
      "evining temp= [8.2, 14.1, 13.5, 9.0, 13.0, 8.5, 12.9, 13.3, 8.4, 14.0, 9.5, 13.4, 8.1, 14.2, 12.8, 13.7, 13.6, 8.7, 13.8, 9.2, 13.9, 8.3, 12.7, 8.9, 13.1, 12.5]\n",
      "night temp= [7.9, 7.7, 7.6, 8.0, 7.8, 7.8]\n",
      "total= 17.343750000000004\n"
     ]
    }
   ],
   "source": [
    "\n",
    "temperatures = [8.2, 17.4, 14.1, 7.9, 18.0, 13.5, 9.0, 17.8, 13.0, 8.5,\n",
    "16.5, 12.9, 7.7, 17.2, 13.3, 8.4, 16.7, 14.0, 9.5, 18.3, 13.4, 8.1,\n",
    "17.9, 14.2, 7.6, 17.0, 12.8, 8.0, 16.8, 13.7, 7.8, 17.5, 13.6, 8.7,\n",
    "17.1, 13.8, 9.2, 18.1, 13.9, 8.3, 16.4, 12.7, 8.9, 18.2, 13.1, 7.8,\n",
    "16.6, 12.5]\n",
    "\n",
    "day=[]\n",
    "night=[]\n",
    "evining=[]\n",
    "\n",
    "for temp in temperatures:\n",
    "    if temp>0 and temp<=8:\n",
    "        night.append(temp)\n",
    "    elif temp>8 and temp<=16:\n",
    "        evining.append(temp)\n",
    "    elif temp>16 and temp<=24:\n",
    "        day.append(temp)\n",
    "    else:\n",
    "        print(\"\")\n",
    "print(\"day temp=\",day)\n",
    "print(\"evining temp=\",evining)\n",
    "print(\"night temp=\",night)\n",
    "\n",
    "total=0\n",
    "for avg in range(0,len(day)):\n",
    "    total+=day[avg]\n",
    "print(\"total=\",total/len(day))\n",
    "\n"
   ]
  }
 ],
 "metadata": {
  "kernelspec": {
   "display_name": "Python 3",
   "language": "python",
   "name": "python3"
  },
  "language_info": {
   "codemirror_mode": {
    "name": "ipython",
    "version": 3
   },
   "file_extension": ".py",
   "mimetype": "text/x-python",
   "name": "python",
   "nbconvert_exporter": "python",
   "pygments_lexer": "ipython3",
   "version": "3.12.2"
  }
 },
 "nbformat": 4,
 "nbformat_minor": 2
}
