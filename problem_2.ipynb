{
 "cells": [
  {
   "cell_type": "code",
   "execution_count": null,
   "metadata": {},
   "outputs": [],
   "source": [
    "# Part 2\n",
    "# 1\n",
    "import pandas as pd\n",
    "readcsv= pd.read_csv(\"C:\\\\Users\\\\bipas\\\\OneDrive\\\\Desktop\\\\medical_students_dataset.csv\")\n",
    "df = pd.DataFrame(readcsv)\n",
    "print(df)\n"
   ]
  },
  {
   "cell_type": "code",
   "execution_count": null,
   "metadata": {},
   "outputs": [],
   "source": [
    "# Part 2 \n",
    "# 2\n",
    "import pandas as pd\n",
    "readcsv= pd.read_csv(\"C:\\\\Users\\\\bipas\\\\OneDrive\\\\Desktop\\\\medical_students_dataset.csv\")\n",
    "df = pd.DataFrame(readcsv)\n",
    "# print(data_frame)\n",
    "print(\"Info of the dataframe: \")\n",
    "print(df.info())\n",
    "print(\"Null values:\")\n",
    "print(df.isnull())"
   ]
  },
  {
   "cell_type": "code",
   "execution_count": null,
   "metadata": {},
   "outputs": [],
   "source": [
    "# Part 2\n",
    "# 3\n",
    "import pandas as pd\n",
    "from sklearn.datasets import load_iris\n",
    "import numpy as np\n",
    "readcsv= pd.read_csv(\"C:\\\\Users\\\\bipas\\\\OneDrive\\\\Desktop\\\\medical_students_dataset.csv\")\n",
    "df = pd.DataFrame(readcsv)\n",
    "missing = df.isnull().sum()\n",
    "print(missing)\n"
   ]
  },
  {
   "cell_type": "code",
   "execution_count": null,
   "metadata": {},
   "outputs": [],
   "source": [
    "# Part 2\n",
    "# 4\n",
    "import pandas as pd\n",
    "readcsv= pd.read_csv(\"C:\\\\Users\\\\bipas\\\\OneDrive\\\\Desktop\\\\medical_students_dataset.csv\")\n",
    "df = pd.DataFrame(readcsv)\n",
    "duplicate =df.duplicated()\n",
    "print(duplicate)\n",
    "df.drop_duplicates()\n"
   ]
  }
 ],
 "metadata": {
  "language_info": {
   "name": "python"
  }
 },
 "nbformat": 4,
 "nbformat_minor": 2
}
