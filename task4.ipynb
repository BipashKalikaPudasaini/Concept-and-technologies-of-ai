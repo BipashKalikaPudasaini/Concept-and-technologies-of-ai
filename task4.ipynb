{
 "cells": [
  {
   "cell_type": "code",
   "execution_count": null,
   "metadata": {},
   "outputs": [
    {
     "ename": "TypeError",
     "evalue": "'list' object is not callable",
     "output_type": "error",
     "traceback": [
      "\u001b[1;31m---------------------------------------------------------------------------\u001b[0m",
      "\u001b[1;31mTypeError\u001b[0m                                 Traceback (most recent call last)",
      "Cell \u001b[1;32mIn[9], line 12\u001b[0m\n\u001b[0;32m      9\u001b[0m     \u001b[38;5;28;01mreturn\u001b[39;00m \u001b[38;5;28msum\u001b[39m \n\u001b[0;32m     11\u001b[0m nested_list \u001b[38;5;241m=\u001b[39m [[\u001b[38;5;241m1\u001b[39m, \u001b[38;5;241m2\u001b[39m, \u001b[38;5;241m3\u001b[39m], [\u001b[38;5;241m4\u001b[39m, \u001b[38;5;241m5\u001b[39m, [\u001b[38;5;241m6\u001b[39m, \u001b[38;5;241m7\u001b[39m, [\u001b[38;5;241m8\u001b[39m, \u001b[38;5;241m9\u001b[39m]]]]\n\u001b[1;32m---> 12\u001b[0m \u001b[38;5;28mprint\u001b[39m(\u001b[43mnested_list\u001b[49m\u001b[43m(\u001b[49m\u001b[43mnested_list\u001b[49m\u001b[43m)\u001b[49m)\n",
      "\u001b[1;31mTypeError\u001b[0m: 'list' object is not callable"
     ]
    }
   ],
   "source": [
    "def sum_nested_list(nested_list):\n",
    "\n",
    "    sum = 0\n",
    "    for element in nested_list:\n",
    "        if isinstance(element, list):\n",
    "            sum += sum_nested_list(element)\n",
    "        else:\n",
    "            sum += element\n",
    "    return sum \n",
    "\n",
    "nested_list = [[1, 2, 3], [4, 5, [6, 7, [8, 9]]]]\n",
    "print(sum_nested_list(nested_list))"
   ]
  }
 ],
 "metadata": {
  "kernelspec": {
   "display_name": "Python 3",
   "language": "python",
   "name": "python3"
  },
  "language_info": {
   "codemirror_mode": {
    "name": "ipython",
    "version": 3
   },
   "file_extension": ".py",
   "mimetype": "text/x-python",
   "name": "python",
   "nbconvert_exporter": "python",
   "pygments_lexer": "ipython3",
   "version": "3.12.2"
  }
 },
 "nbformat": 4,
 "nbformat_minor": 2
}
