{
 "cells": [
  {
   "cell_type": "code",
   "execution_count": 3,
   "metadata": {},
   "outputs": [
    {
     "name": "stdout",
     "output_type": "stream",
     "text": [
      "lowest common of abcde and ace is ace\n"
     ]
    }
   ],
   "source": [
    "a = \"abcde\"\n",
    "b = \"ace\"\n",
    "lcs = []\n",
    "\n",
    "i = 0\n",
    "for character in a:\n",
    "    if character == b[i]:\n",
    "        lcs.append(character)\n",
    "        i += 1\n",
    "\n",
    "print(\"lowest common of\",a,\"and\",b,\"is\",''.join(lcs))"
   ]
  }
 ],
 "metadata": {
  "kernelspec": {
   "display_name": "Python 3",
   "language": "python",
   "name": "python3"
  },
  "language_info": {
   "codemirror_mode": {
    "name": "ipython",
    "version": 3
   },
   "file_extension": ".py",
   "mimetype": "text/x-python",
   "name": "python",
   "nbconvert_exporter": "python",
   "pygments_lexer": "ipython3",
   "version": "3.12.2"
  }
 },
 "nbformat": 4,
 "nbformat_minor": 2
}
