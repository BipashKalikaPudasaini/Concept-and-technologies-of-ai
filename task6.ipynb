{
 "cells": [
  {
   "cell_type": "code",
   "execution_count": 3,
   "metadata": {},
   "outputs": [
    {
     "name": "stdout",
     "output_type": "stream",
     "text": [
      "Total directory size is 1400 KB.\n"
     ]
    }
   ],
   "source": [
    "def calculate_directory_size(directory):\n",
    "     dir_size=0\n",
    "     for keys , values in directory.items():\n",
    "         if isinstance(values, dict):\n",
    "             dir_size += calculate_directory_size(values)\n",
    "         else:\n",
    "             dir_size += values\n",
    "     return dir_size  \n",
    "\n",
    "directory_structure = {\n",
    " \"file1.txt\": 200,\n",
    " \"file2.txt\": 300,\n",
    " \"subdir1\": {\n",
    " \"file3.txt\": 400,\n",
    " \"file4.txt\": 100\n",
    " },\n",
    " \"subdir2\": {\n",
    " \"subsubdir1\": {\n",
    " \"file5.txt\": 250\n",
    " },\n",
    " \"file6.txt\": 150\n",
    " }\n",
    " } \n",
    "\n",
    "dir_size = calculate_directory_size(directory_structure)\n",
    "print(f\"Total directory size is {dir_size} KB.\")"
   ]
  }
 ],
 "metadata": {
  "kernelspec": {
   "display_name": "Python 3",
   "language": "python",
   "name": "python3"
  },
  "language_info": {
   "codemirror_mode": {
    "name": "ipython",
    "version": 3
   },
   "file_extension": ".py",
   "mimetype": "text/x-python",
   "name": "python",
   "nbconvert_exporter": "python",
   "pygments_lexer": "ipython3",
   "version": "3.12.2"
  }
 },
 "nbformat": 4,
 "nbformat_minor": 2
}
