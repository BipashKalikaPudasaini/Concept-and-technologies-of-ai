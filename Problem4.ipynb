{
 "cells": [
  {
   "cell_type": "code",
   "execution_count": null,
   "metadata": {},
   "outputs": [
    {
     "name": "stdout",
     "output_type": "stream",
     "text": [
      "Equal\n"
     ]
    }
   ],
   "source": [
    "# Part 4\n",
    "# q no 1\n",
    "    \n",
    "import numpy as np\n",
    "A = np.array([[3,4],[7,8]]) \n",
    "B = np.array([[5,3],[2,1]])\n",
    "A_inv=np.linalg.inv(A)\n",
    "res = np.dot(A_inv,A)\n",
    "res = np.round(res, decimals=10)\n",
    "I = np.eye(2,2)\n",
    "# print(I)\n",
    "if np.allclose(res,I) :\n",
    "    print(\" they are equal\")\n",
    "else:\n",
    "    print(\"they are not equal\")"
   ]
  },
  {
   "cell_type": "code",
   "execution_count": null,
   "metadata": {},
   "outputs": [
    {
     "name": "stdout",
     "output_type": "stream",
     "text": [
      "Not equal\n"
     ]
    }
   ],
   "source": [
    "# Part 4\n",
    "#  # q no 2 \n",
    "import numpy as np\n",
    "A = np.array([[3,4],[7,8]]) \n",
    "B = np.array([[5,3],[2,1]])\n",
    "res1 = np.matmul(A,B)\n",
    "res2 = np.matmul(B,A)\n",
    "if np.allclose(res1,res2):\n",
    "    print(\"Equal\")\n",
    "else:\n",
    "    print(\"they are not equal\")"
   ]
  },
  {
   "cell_type": "code",
   "execution_count": null,
   "metadata": {},
   "outputs": [
    {
     "name": "stdout",
     "output_type": "stream",
     "text": [
      "Equal\n"
     ]
    }
   ],
   "source": [
    "# Part 4\n",
    " # q no 3\n",
    "import numpy as np\n",
    "A = np.array([[3,4],[7,8]]) \n",
    "B = np.array([[5,3],[2,1]])\n",
    "res1 = np.matmul(A,B)\n",
    "tranAB = np.transpose(res1)\n",
    "tranA = np.transpose(A)\n",
    "tranB = np.transpose(B)\n",
    "res2 = np.matmul(tranB,tranA)\n",
    "if np.allclose(tranAB,res2):\n",
    "        print(\"they are equal\")\n",
    "else:\n",
    "        print(\"they are not equal\")"
   ]
  },
  {
   "cell_type": "code",
   "execution_count": null,
   "metadata": {},
   "outputs": [
    {
     "name": "stdout",
     "output_type": "stream",
     "text": [
      "The solution is: \n",
      "[[ 2.]\n",
      " [ 1.]\n",
      " [-2.]]\n"
     ]
    }
   ],
   "source": [
    "# Part 4\n",
    "# q no 2,3\n",
    "import numpy as np\n",
    "A= ([[2,-3,1],\n",
    "    [1,-1,2],\n",
    "    [3,1,-1]])\n",
    "\n",
    "B= ([-1],\n",
    "    [-3],\n",
    "    [9])\n",
    "\n",
    "A_inv = np.linalg.inv(A)\n",
    "res = np.dot(A_inv,B)\n",
    "print(\" solution is: \")\n",
    "print(res)"
   ]
  },
  {
   "cell_type": "code",
   "execution_count": null,
   "metadata": {},
   "outputs": [],
   "source": []
  }
 ],
 "metadata": {
  "kernelspec": {
   "display_name": "Python 3",
   "language": "python",
   "name": "python3"
  },
  "language_info": {
   "codemirror_mode": {
    "name": "ipython",
    "version": 3
   },
   "file_extension": ".py",
   "mimetype": "text/x-python",
   "name": "python",
   "nbconvert_exporter": "python",
   "pygments_lexer": "ipython3",
   "version": "3.12.4"
  }
 },
 "nbformat": 4,
 "nbformat_minor": 2
}
